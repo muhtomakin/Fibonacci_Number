{
 "cells": [
  {
   "cell_type": "code",
   "execution_count": null,
   "id": "51c7c52c",
   "metadata": {},
   "outputs": [],
   "source": [
    "#This algorithm allows to find fibonacci number with dynamic programming. \n",
    "def fibonacci(list_length):\n",
    "    if list_length<0:\n",
    "        return print(\"Incorrect Number\")\n",
    "    elif list_length==0:\n",
    "        return 0\n",
    "    elif list_length==1:\n",
    "        return 1\n",
    "    else:\n",
    "        return fibonacci(list_length-1)+fibonacci(list_length-2)\n",
    "\n",
    "list_length = int(input(\"Please enter which fibonacci number you want: \"))\n",
    "fibonacci(list_length)"
   ]
  },
  {
   "cell_type": "code",
   "execution_count": null,
   "id": "979c1e6d",
   "metadata": {},
   "outputs": [],
   "source": [
    "#This algorithm allows to find fibonacci number with loop. \n",
    "def fibonacci(list_length):\n",
    "    \n",
    "    l = [1, 1]\n",
    "    if list_length<0:\n",
    "        return print(\"Incorrect Number\")\n",
    "    elif list_length==0:\n",
    "        return 0\n",
    "    elif list_length==1:\n",
    "        return 1\n",
    "    else:\n",
    "        for i in range(2,list_length):\n",
    "            n = l[i-1] + l[i-2]\n",
    "            l.append(n)\n",
    "        return l\n",
    "    \n",
    "list_length = int(input(\"Please enter which fibonacci number you want: \"))\n",
    "fibonacci(list_length)\n",
    "            "
   ]
  }
 ],
 "metadata": {
  "kernelspec": {
   "display_name": "Python 3",
   "language": "python",
   "name": "python3"
  },
  "language_info": {
   "codemirror_mode": {
    "name": "ipython",
    "version": 3
   },
   "file_extension": ".py",
   "mimetype": "text/x-python",
   "name": "python",
   "nbconvert_exporter": "python",
   "pygments_lexer": "ipython3",
   "version": "3.8.8"
  }
 },
 "nbformat": 4,
 "nbformat_minor": 5
}
